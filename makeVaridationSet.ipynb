{
 "cells": [
  {
   "cell_type": "code",
   "execution_count": 1,
   "metadata": {},
   "outputs": [],
   "source": [
    "import os\n",
    "\n",
    "INPUT_DOC_DIR = './houhan/'\n",
    "\n",
    "def get_all_files(directory):\n",
    "    for root, dirs, files in os.walk(directory):\n",
    "        for file in files:\n",
    "            yield os.path.join(root, file)\n",
    "\n",
    "corpus = list(get_all_files(INPUT_DOC_DIR))"
   ]
  },
  {
   "cell_type": "code",
   "execution_count": 4,
   "metadata": {},
   "outputs": [
    {
     "data": {
      "text/plain": [
       "['./houhan/sample_L.txt',\n",
       " './houhan/sample011.txt',\n",
       " './houhan/sample_I.txt',\n",
       " './houhan/sample_H.txt',\n",
       " './houhan/sample003.txt',\n",
       " './houhan/sample_A.txt',\n",
       " './houhan/sample012.txt',\n",
       " './houhan/sample025.txt',\n",
       " './houhan/sample004.txt',\n",
       " './houhan/sample_K.txt',\n",
       " './houhan/sample_B.txt',\n",
       " './houhan/sample024.txt',\n",
       " './houhan/sample019.txt',\n",
       " './houhan/sample_G.txt',\n",
       " './houhan/sample027.txt',\n",
       " './houhan/sample020.txt',\n",
       " './houhan/sample022.txt',\n",
       " './houhan/sample010.txt',\n",
       " './houhan/sample008.txt',\n",
       " './houhan/sample001.txt',\n",
       " './houhan/sample007.txt',\n",
       " './houhan/sample002.txt',\n",
       " './houhan/sample009.txt',\n",
       " './houhan/sample021.txt',\n",
       " './houhan/sample023.txt',\n",
       " './houhan/sample_J.txt',\n",
       " './houhan/sample026.txt',\n",
       " './houhan/sample005.txt',\n",
       " './houhan/sample_C.txt',\n",
       " './houhan/sample006.txt']"
      ]
     },
     "execution_count": 4,
     "metadata": {},
     "output_type": "execute_result"
    }
   ],
   "source": [
    "len(corpus)\n",
    "corpus"
   ]
  },
  {
   "cell_type": "code",
   "execution_count": 5,
   "metadata": {},
   "outputs": [],
   "source": [
    "import random\n",
    "shuffle_corpus = random.sample(corpus, len(corpus))"
   ]
  },
  {
   "cell_type": "code",
   "execution_count": 11,
   "metadata": {},
   "outputs": [
    {
     "data": {
      "text/plain": [
       "['./houhan/sample_B.txt',\n",
       " './houhan/sample020.txt',\n",
       " './houhan/sample009.txt',\n",
       " './houhan/sample_L.txt',\n",
       " './houhan/sample_K.txt',\n",
       " './houhan/sample019.txt',\n",
       " './houhan/sample_J.txt',\n",
       " './houhan/sample023.txt',\n",
       " './houhan/sample004.txt',\n",
       " './houhan/sample006.txt',\n",
       " './houhan/sample_C.txt',\n",
       " './houhan/sample021.txt',\n",
       " './houhan/sample012.txt',\n",
       " './houhan/sample027.txt',\n",
       " './houhan/sample_H.txt',\n",
       " './houhan/sample005.txt',\n",
       " './houhan/sample022.txt',\n",
       " './houhan/sample_I.txt',\n",
       " './houhan/sample008.txt',\n",
       " './houhan/sample011.txt',\n",
       " './houhan/sample025.txt',\n",
       " './houhan/sample_G.txt',\n",
       " './houhan/sample003.txt',\n",
       " './houhan/sample026.txt',\n",
       " './houhan/sample001.txt',\n",
       " './houhan/sample024.txt',\n",
       " './houhan/sample_A.txt',\n",
       " './houhan/sample010.txt',\n",
       " './houhan/sample002.txt',\n",
       " './houhan/sample007.txt']"
      ]
     },
     "execution_count": 11,
     "metadata": {},
     "output_type": "execute_result"
    }
   ],
   "source": [
    "len(shuffle_corpus)\n",
    "shuffle_corpus"
   ]
  },
  {
   "cell_type": "code",
   "execution_count": 24,
   "metadata": {},
   "outputs": [],
   "source": [
    "TEST_DIRS = []\n",
    "TRAIN_DIRS = []\n",
    "\n",
    "for i in range(3):\n",
    "    TEST_DIRS.append(\"test{:d}\".format(i))\n",
    "    TRAIN_DIRS.append(\"train{:d}\".format(i))\n",
    "\n",
    "DIRS = TEST_DIRS + TRAIN_DIRS\n",
    "for dirs in DIRS:\n",
    "    os.mkdir(dirs)"
   ]
  },
  {
   "cell_type": "code",
   "execution_count": 25,
   "metadata": {},
   "outputs": [],
   "source": [
    "import shutil\n",
    "import numpy\n",
    "\n",
    "k = 3\n",
    "n_samples = len(shuffle_corpus)\n",
    "fold_size = n_samples // k"
   ]
  },
  {
   "cell_type": "code",
   "execution_count": 26,
   "metadata": {},
   "outputs": [
    {
     "name": "stdout",
     "output_type": "stream",
     "text": [
      "\n",
      "\n",
      "\n"
     ]
    }
   ],
   "source": [
    "for fold in range(k):\n",
    "    for i in range(n_samples):\n",
    "        if (fold + 1) * fold_size - 1 >= i >= fold * fold_size:\n",
    "            TE_DIR = \"./\" + TEST_DIRS[fold] + \"/\" + os.path.basename(shuffle_corpus[i])\n",
    "            shutil.copyfile(shuffle_corpus[i], TE_DIR)\n",
    "#             print(i, shuffle_corpus[i], TE_DIR)\n",
    "        else:\n",
    "            TR_DIR = \"./\" + TRAIN_DIRS[fold] + \"/\" + os.path.basename(shuffle_corpus[i])\n",
    "            shutil.copyfile(shuffle_corpus[i], TR_DIR)\n",
    "#             print(i, shuffle_corpus[i], TR_DIR)\n",
    "    print()"
   ]
  },
  {
   "cell_type": "code",
   "execution_count": 18,
   "metadata": {},
   "outputs": [],
   "source": [
    "import numpy as np"
   ]
  },
  {
   "cell_type": "code",
   "execution_count": 21,
   "metadata": {},
   "outputs": [],
   "source": [
    "i = [0, 1, 2, 3, 4, 5]"
   ]
  },
  {
   "cell_type": "code",
   "execution_count": 22,
   "metadata": {},
   "outputs": [
    {
     "data": {
      "text/plain": [
       "[0, 1, 2]"
      ]
     },
     "execution_count": 22,
     "metadata": {},
     "output_type": "execute_result"
    }
   ],
   "source": [
    "i[0:3]"
   ]
  },
  {
   "cell_type": "code",
   "execution_count": null,
   "metadata": {},
   "outputs": [],
   "source": []
  }
 ],
 "metadata": {
  "kernelspec": {
   "display_name": "Python 3",
   "language": "python",
   "name": "python3"
  },
  "language_info": {
   "codemirror_mode": {
    "name": "ipython",
    "version": 3
   },
   "file_extension": ".py",
   "mimetype": "text/x-python",
   "name": "python",
   "nbconvert_exporter": "python",
   "pygments_lexer": "ipython3",
   "version": "3.6.5"
  }
 },
 "nbformat": 4,
 "nbformat_minor": 2
}
